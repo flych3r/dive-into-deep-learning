{
 "cells": [
  {
   "cell_type": "markdown",
   "metadata": {
    "slideshow": {
     "slide_type": "slide"
    }
   },
   "source": [
    "### Text Preprocessing"
   ]
  },
  {
   "cell_type": "code",
   "execution_count": 2,
   "metadata": {
    "attributes": {
     "classes": [],
     "id": "",
     "n": "10"
    },
    "tags": []
   },
   "outputs": [
    {
     "output_type": "stream",
     "name": "stdout",
     "text": "number of characters:  197509\nproject gutenberg's the time machine, by h. g. (herbert george) wells \n"
    }
   ],
   "source": [
    "import numpy as np\n",
    "import random\n",
    "\n",
    "with open('timemachine.txt', 'r') as f:\n",
    "    lines = f.readlines()\n",
    "    raw_dataset = ' '.join(' '.join(lines).lower().split())\n",
    "\n",
    "print('number of characters: ', len(raw_dataset))\n",
    "print(raw_dataset[0:70])"
   ]
  },
  {
   "cell_type": "markdown",
   "metadata": {
    "slideshow": {
     "slide_type": "slide"
    }
   },
   "source": [
    "### Character Index"
   ]
  },
  {
   "cell_type": "code",
   "execution_count": 3,
   "metadata": {
    "attributes": {
     "classes": [],
     "id": "",
     "n": "13"
    },
    "tags": []
   },
   "outputs": [
    {
     "output_type": "stream",
     "name": "stdout",
     "text": "{'?': 0, 'i': 1, 'x': 2, 'h': 3, 'w': 4, 'p': 5, 't': 6, '\"': 7, '9': 8, '@': 9, '[': 10, 'd': 11, 'c': 12, '_': 13, \"'\": 14, '$': 15, 'n': 16, '8': 17, '.': 18, '4': 19, 'k': 20, ' ': 21, 'e': 22, 'b': 23, '6': 24, ',': 25, 'o': 26, '5': 27, '-': 28, 'f': 29, '2': 30, 'r': 31, 'u': 32, '0': 33, ']': 34, 'q': 35, 'a': 36, 'y': 37, ':': 38, 'l': 39, '(': 40, '/': 41, '%': 42, 's': 43, 'z': 44, '1': 45, ')': 46, '#': 47, ';': 48, '!': 49, '*': 50, '7': 51, 'v': 52, 'm': 53, 'g': 54, '3': 55, 'j': 56}\n"
    }
   ],
   "source": [
    "idx_to_char = list(set(raw_dataset))\n",
    "char_to_idx = dict([(char, i) for i, char in enumerate(idx_to_char)])\n",
    "vocab_size = len(char_to_idx)\n",
    "print(char_to_idx)"
   ]
  },
  {
   "cell_type": "markdown",
   "metadata": {
    "slideshow": {
     "slide_type": "slide"
    }
   },
   "source": [
    "Converting it back to text"
   ]
  },
  {
   "cell_type": "code",
   "execution_count": 4,
   "metadata": {
    "attributes": {
     "classes": [],
     "id": "",
     "n": "15"
    },
    "tags": []
   },
   "outputs": [
    {
     "output_type": "stream",
     "name": "stdout",
     "text": "chars: project gutenberg's \nindices: [5, 31, 26, 56, 22, 12, 6, 21, 54, 32, 6, 22, 16, 23, 22, 31, 54, 14, 43, 21]\n"
    }
   ],
   "source": [
    "corpus_indices = [char_to_idx[char] for char in raw_dataset]\n",
    "sample = corpus_indices[:20]\n",
    "print('chars:', ''.join([idx_to_char[idx] for idx in sample]))\n",
    "print('indices:', sample)"
   ]
  },
  {
   "cell_type": "markdown",
   "metadata": {
    "slideshow": {
     "slide_type": "slide"
    }
   },
   "source": [
    "### Random Sampling"
   ]
  },
  {
   "cell_type": "code",
   "execution_count": 5,
   "metadata": {
    "attributes": {
     "classes": [],
     "id": "",
     "n": "5"
    }
   },
   "outputs": [],
   "source": [
    "def data_iter_random(corpus_indices, batch_size, num_steps):\n",
    "    # offset for the iterator over the data for uniform starts\n",
    "    offset = int(random.uniform(0,num_steps))\n",
    "    corpus_indices = corpus_indices[offset:]\n",
    "    # subtract 1 extra since we need to account for the sequence length\n",
    "    num_examples = ((len(corpus_indices) - 1) // num_steps) - 1\n",
    "    # discard half empty batches\n",
    "    num_batches = num_examples // batch_size\n",
    "    example_indices = list(range(0, num_examples * num_steps, num_steps))\n",
    "    random.shuffle(example_indices)\n",
    "    \n",
    "    # This returns a sequence of the length num_steps starting from pos.\n",
    "    def _data(pos):\n",
    "        return corpus_indices[pos: pos + num_steps]\n",
    "\n",
    "    for i in range(0, batch_size * num_batches, batch_size):\n",
    "        # batch_size indicates the random examples read each time.\n",
    "        batch_indices = example_indices[i:(i+batch_size)]\n",
    "        X = [_data(j) for j in batch_indices]\n",
    "        Y = [_data(j + 1) for j in batch_indices]       \n",
    "\n",
    "        yield np.array(X), np.array(Y)"
   ]
  },
  {
   "cell_type": "markdown",
   "metadata": {
    "slideshow": {
     "slide_type": "slide"
    }
   },
   "source": [
    "### Example\n",
    "\n",
    "Batch size 2 and time steps is 5 for a sequence of length 30."
   ]
  },
  {
   "cell_type": "code",
   "execution_count": 6,
   "metadata": {
    "attributes": {
     "classes": [],
     "id": "",
     "n": "6"
    },
    "tags": []
   },
   "outputs": [
    {
     "output_type": "stream",
     "name": "stdout",
     "text": "X:  [[12 13 14 15 16]\n [ 2  3  4  5  6]] \nY: [[13 14 15 16 17]\n [ 3  4  5  6  7]]\nX:  [[ 7  8  9 10 11]\n [17 18 19 20 21]] \nY: [[ 8  9 10 11 12]\n [18 19 20 21 22]]\n"
    }
   ],
   "source": [
    "my_seq = list(range(30))\n",
    "for X, Y in data_iter_random(my_seq, batch_size=2, num_steps=5):\n",
    "    print('X: ', X, '\\nY:', Y)"
   ]
  },
  {
   "cell_type": "markdown",
   "metadata": {
    "slideshow": {
     "slide_type": "slide"
    }
   },
   "source": [
    "### Sequential partitioning\n",
    "\n",
    "Adjacent positioning of minibatches. This way we can retain the latent state between batches. "
   ]
  },
  {
   "cell_type": "code",
   "execution_count": 7,
   "metadata": {
    "attributes": {
     "classes": [],
     "id": "",
     "n": "7"
    }
   },
   "outputs": [],
   "source": [
    "def data_iter_consecutive(corpus_indices, batch_size, num_steps):\n",
    "    # offset for the iterator over the data for uniform starts\n",
    "    offset = int(random.uniform(0,num_steps))\n",
    "    # slice out data - ignore num_steps and just wrap around\n",
    "    num_indices = ((len(corpus_indices) - offset) // batch_size) * batch_size\n",
    "    indices = np.array(corpus_indices[offset:(offset + num_indices)])\n",
    "    indices = indices.reshape((batch_size,-1))\n",
    "    # need to leave one last token since targets are shifted by 1\n",
    "    num_epochs = ((num_indices // batch_size) - 1) // num_steps\n",
    "\n",
    "    for i in range(0, num_epochs * num_steps, num_steps):\n",
    "        X = indices[:,i:(i+num_steps)]\n",
    "        Y = indices[:,(i+1):(i+1+num_steps)]\n",
    "        yield X, Y"
   ]
  },
  {
   "cell_type": "markdown",
   "metadata": {
    "slideshow": {
     "slide_type": "slide"
    }
   },
   "source": [
    "### Example partitioning"
   ]
  },
  {
   "cell_type": "code",
   "execution_count": 8,
   "metadata": {
    "attributes": {
     "classes": [],
     "id": "",
     "n": "8"
    },
    "tags": []
   },
   "outputs": [
    {
     "output_type": "stream",
     "name": "stdout",
     "text": "X:  [[ 5  6  7  8  9 10]\n [17 18 19 20 21 22]] \nY: [[ 6  7  8  9 10 11]\n [18 19 20 21 22 23]]\n"
    }
   ],
   "source": [
    "for X, Y in data_iter_consecutive(my_seq, batch_size=2, num_steps=6):\n",
    "    print('X: ', X, '\\nY:', Y)"
   ]
  }
 ],
 "metadata": {
  "celltoolbar": "Slideshow",
  "kernelspec": {
   "display_name": "Python 3.7.6 64-bit ('d2l': conda)",
   "language": "python",
   "name": "python37664bitd2lconda06445091a0e1459fa904aa9d0606f621"
  },
  "language_info": {
   "codemirror_mode": {
    "name": "ipython",
    "version": 3
   },
   "file_extension": ".py",
   "mimetype": "text/x-python",
   "name": "python",
   "nbconvert_exporter": "python",
   "pygments_lexer": "ipython3",
   "version": "3.7.6-final"
  }
 },
 "nbformat": 4,
 "nbformat_minor": 2
}
