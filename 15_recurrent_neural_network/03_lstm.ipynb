{
 "cells": [
  {
   "cell_type": "markdown",
   "metadata": {
    "slideshow": {
     "slide_type": "slide"
    }
   },
   "source": [
    "# Long Short-term Memory"
   ]
  },
  {
   "cell_type": "code",
   "execution_count": 1,
   "metadata": {
    "attributes": {
     "classes": [],
     "id": "",
     "n": "1"
    }
   },
   "outputs": [],
   "source": [
    "from d2l.tensorflow import data, losses, optimizers, models\n",
    "\n",
    "import tensorflow as tf\n",
    "import numpy as np\n",
    "\n",
    "from d2l.tensorflow import config\n",
    "\n",
    "config.setup('CPU')"
   ]
  },
  {
   "cell_type": "code",
   "execution_count": 2,
   "metadata": {},
   "outputs": [],
   "source": [
    "data_iter, vocab = data.load_seq_data('../data/timemachine.txt', 128, 1)"
   ]
  },
  {
   "cell_type": "code",
   "execution_count": 3,
   "metadata": {
    "attributes": {
     "classes": [],
     "id": "",
     "n": "2"
    }
   },
   "outputs": [],
   "source": [
    "vocab_size = len(vocab)\n",
    "corpus_indices = data_iter.corpus\n",
    "idx_to_char, char_to_idx = vocab.idx_to_token, vocab.token_to_idx\n",
    "num_inputs, num_hiddens, num_outputs = vocab_size, 512, vocab_size\n",
    "\n",
    "def get_params():\n",
    "    def _one(shape):\n",
    "        return tf.random.normal(stddev=0.01, shape=shape)\n",
    "\n",
    "    def _three():\n",
    "        return (_one((num_inputs, num_hiddens)),\n",
    "                _one((num_hiddens, num_hiddens)),\n",
    "                tf.zeros(num_hiddens))\n",
    "\n",
    "    W_xi, W_hi, b_i = _three()  # Input gate parameters\n",
    "    W_xf, W_hf, b_f = _three()  # Forget gate parameters\n",
    "    W_xo, W_ho, b_o = _three()  # Output gate parameters\n",
    "    W_xc, W_hc, b_c = _three()  # Candidate cell parameters\n",
    "    # Output layer parameters\n",
    "    W_hq = _one((num_hiddens, num_outputs))\n",
    "    b_q = tf.zeros(num_outputs)\n",
    "    # Create gradient\n",
    "    params = [\n",
    "        W_xi, W_hi, b_i, W_xf, W_hf, b_f, \n",
    "        W_xo, W_ho, b_o, W_xc, W_hc,\n",
    "        b_c, W_hq, b_q\n",
    "    ]\n",
    "    return [tf.Variable(param) for param in params]"
   ]
  },
  {
   "cell_type": "markdown",
   "metadata": {
    "slideshow": {
     "slide_type": "slide"
    }
   },
   "source": [
    "### State initializer"
   ]
  },
  {
   "cell_type": "code",
   "execution_count": 4,
   "metadata": {
    "attributes": {
     "classes": [],
     "id": "",
     "n": "3"
    }
   },
   "outputs": [],
   "source": [
    "def init_lstm_state(batch_size, num_hiddens):\n",
    "    state = [\n",
    "        tf.zeros(shape=(batch_size, num_hiddens)),\n",
    "        tf.zeros(shape=(batch_size, num_hiddens))\n",
    "    ]\n",
    "    return [tf.Variable(st) for st in state]"
   ]
  },
  {
   "cell_type": "markdown",
   "metadata": {
    "slideshow": {
     "slide_type": "slide"
    }
   },
   "source": [
    "### LSTM Cell"
   ]
  },
  {
   "cell_type": "code",
   "execution_count": 5,
   "metadata": {
    "attributes": {
     "classes": [],
     "id": "",
     "n": "4"
    }
   },
   "outputs": [],
   "source": [
    "def lstm(inputs, state, params):\n",
    "    [\n",
    "        W_xi, W_hi, b_i, W_xf, W_hf, b_f, W_xo, \n",
    "        W_ho, b_o, W_xc, W_hc, b_c, W_hq, b_q\n",
    "    ] = params\n",
    "    (H, C) = state\n",
    "    outputs = []\n",
    "    for X in inputs:\n",
    "        I = tf.sigmoid(tf.matmul(X, W_xi) + tf.matmul(H, W_hi) + b_i)\n",
    "        F = tf.sigmoid(tf.matmul(X, W_xf) + tf.matmul(H, W_hf) + b_f)\n",
    "        O = tf.sigmoid(tf.matmul(X, W_xo) + tf.matmul(H, W_ho) + b_o)\n",
    "        C_tilda = tf.tanh(tf.matmul(X, W_xc) + tf.matmul(H, W_hc) + b_c)\n",
    "        C = F * C + I * C_tilda\n",
    "        H = O * tf.tanh(C)\n",
    "        Y = tf.matmul(H, W_hq) + b_q\n",
    "        outputs.append(Y)\n",
    "    return outputs, (H, C)"
   ]
  },
  {
   "cell_type": "markdown",
   "metadata": {
    "slideshow": {
     "slide_type": "slide"
    }
   },
   "source": [
    "### Train the Model"
   ]
  },
  {
   "cell_type": "code",
   "execution_count": 6,
   "metadata": {
    "attributes": {
     "classes": [],
     "id": "",
     "n": "5"
    }
   },
   "outputs": [],
   "source": [
    "num_epochs, num_steps, batch_size, lr, clipping_theta = 160, 35, 32, 1e2, 1e-2\n",
    "pred_period, pred_len, prefixes = 40, 50, ['traveller', 'time traveller']\n",
    "loss = losses.softmax_cross_entropy\n",
    "optimizer = optimizers.sgd"
   ]
  },
  {
   "cell_type": "code",
   "execution_count": 7,
   "metadata": {
    "tags": []
   },
   "outputs": [],
   "source": [
    "# models.train_and_predict_rnn(\n",
    "#     lstm, loss, optimizer, get_params, init_lstm_state, num_hiddens,\n",
    "#     vocab_size, corpus_indices, idx_to_char,\n",
    "#     char_to_idx, False, num_epochs, num_steps, lr,\n",
    "#     clipping_theta, batch_size, pred_period, pred_len,\n",
    "#     prefixes\n",
    "# )"
   ]
  }
 ],
 "metadata": {
  "celltoolbar": "Slideshow",
  "kernelspec": {
   "display_name": "Python 3.7.7 64-bit ('d2l': conda)",
   "language": "python",
   "name": "python_defaultSpec_1594686134928"
  },
  "language_info": {
   "codemirror_mode": {
    "name": "ipython",
    "version": 3
   },
   "file_extension": ".py",
   "mimetype": "text/x-python",
   "name": "python",
   "nbconvert_exporter": "python",
   "pygments_lexer": "ipython3",
   "version": "3.7.7-final"
  }
 },
 "nbformat": 4,
 "nbformat_minor": 2
}
