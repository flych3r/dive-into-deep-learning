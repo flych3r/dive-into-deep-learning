{
 "cells": [
  {
   "cell_type": "markdown",
   "metadata": {},
   "source": [
    "# Convolutional Layer"
   ]
  },
  {
   "cell_type": "code",
   "execution_count": 1,
   "metadata": {
    "tags": []
   },
   "outputs": [
    {
     "output_type": "stream",
     "name": "stdout",
     "text": "Tensorflow running on CPU\n"
    }
   ],
   "source": [
    "import tensorflow as tf\n",
    "import numpy as np\n",
    "\n",
    "from d2l.tensorflow import config, layers, initializers, activations\n",
    "\n",
    "config.setup()"
   ]
  },
  {
   "cell_type": "markdown",
   "metadata": {},
   "source": [
    "## Convolution"
   ]
  },
  {
   "cell_type": "code",
   "execution_count": 2,
   "metadata": {},
   "outputs": [],
   "source": [
    "def corr2d(X, kernel):\n",
    "    h, w = kernel.shape\n",
    "    Y = tf.Variable(tf.zeros((X.shape[0] - h + 1, X.shape[1] - w + 1)))\n",
    "    for i in range(Y.shape[0]):\n",
    "        for j in range(Y.shape[1]):\n",
    "            Y.scatter_nd_update(\n",
    "                [[i, j]], \n",
    "                [tf.reduce_sum(X[i:i + h, j:j + w] * kernel)]\n",
    "            )\n",
    "    return Y"
   ]
  },
  {
   "cell_type": "code",
   "execution_count": 3,
   "metadata": {},
   "outputs": [],
   "source": [
    "X = tf.convert_to_tensor([[0, 1, 2], [3, 4, 5], [6, 7, 8]], dtype=tf.float32)\n",
    "kernel = tf.convert_to_tensor([[0, 1], [2, 3]], dtype=tf.float32)"
   ]
  },
  {
   "cell_type": "code",
   "execution_count": 4,
   "metadata": {
    "tags": []
   },
   "outputs": [
    {
     "output_type": "execute_result",
     "data": {
      "text/plain": "<tf.Variable 'Variable:0' shape=(2, 2) dtype=float32, numpy=\narray([[19., 25.],\n       [37., 43.]], dtype=float32)>"
     },
     "metadata": {},
     "execution_count": 4
    }
   ],
   "source": [
    "corr2d(X, kernel)"
   ]
  },
  {
   "cell_type": "code",
   "execution_count": 5,
   "metadata": {},
   "outputs": [
    {
     "output_type": "execute_result",
     "data": {
      "text/plain": "<tf.Tensor: shape=(6, 8), dtype=float32, numpy=\narray([[1., 1., 0., 0., 0., 0., 1., 1.],\n       [1., 1., 0., 0., 0., 0., 1., 1.],\n       [1., 1., 0., 0., 0., 0., 1., 1.],\n       [1., 1., 0., 0., 0., 0., 1., 1.],\n       [1., 1., 0., 0., 0., 0., 1., 1.],\n       [1., 1., 0., 0., 0., 0., 1., 1.]], dtype=float32)>"
     },
     "metadata": {},
     "execution_count": 5
    }
   ],
   "source": [
    "X = np.ones((6, 8))\n",
    "X [:, 2:6] = 0\n",
    "X = tf.convert_to_tensor(X, dtype=tf.float32)\n",
    "X"
   ]
  },
  {
   "cell_type": "code",
   "execution_count": 6,
   "metadata": {},
   "outputs": [
    {
     "output_type": "execute_result",
     "data": {
      "text/plain": "<tf.Tensor: shape=(1, 2), dtype=float32, numpy=array([[ 1., -1.]], dtype=float32)>"
     },
     "metadata": {},
     "execution_count": 6
    }
   ],
   "source": [
    "kernel = tf.convert_to_tensor([[1., -1.]])\n",
    "kernel"
   ]
  },
  {
   "cell_type": "code",
   "execution_count": 7,
   "metadata": {
    "tags": []
   },
   "outputs": [
    {
     "output_type": "execute_result",
     "data": {
      "text/plain": "<tf.Variable 'Variable:0' shape=(6, 7) dtype=float32, numpy=\narray([[ 0.,  1.,  0.,  0.,  0., -1.,  0.],\n       [ 0.,  1.,  0.,  0.,  0., -1.,  0.],\n       [ 0.,  1.,  0.,  0.,  0., -1.,  0.],\n       [ 0.,  1.,  0.,  0.,  0., -1.,  0.],\n       [ 0.,  1.,  0.,  0.,  0., -1.,  0.],\n       [ 0.,  1.,  0.,  0.,  0., -1.,  0.]], dtype=float32)>"
     },
     "metadata": {},
     "execution_count": 7
    }
   ],
   "source": [
    "Y = corr2d(X, kernel)\n",
    "Y"
   ]
  },
  {
   "cell_type": "code",
   "execution_count": 8,
   "metadata": {
    "tags": []
   },
   "outputs": [
    {
     "output_type": "execute_result",
     "data": {
      "text/plain": "<tf.Variable 'Variable:0' shape=(8, 5) dtype=float32, numpy=\narray([[0., 0., 0., 0., 0.],\n       [0., 0., 0., 0., 0.],\n       [0., 0., 0., 0., 0.],\n       [0., 0., 0., 0., 0.],\n       [0., 0., 0., 0., 0.],\n       [0., 0., 0., 0., 0.],\n       [0., 0., 0., 0., 0.],\n       [0., 0., 0., 0., 0.]], dtype=float32)>"
     },
     "metadata": {},
     "execution_count": 8
    }
   ],
   "source": [
    "Z = corr2d(tf.transpose(X), kernel)\n",
    "Z"
   ]
  },
  {
   "cell_type": "markdown",
   "metadata": {},
   "source": [
    "## Learning a kernel"
   ]
  },
  {
   "cell_type": "code",
   "execution_count": 9,
   "metadata": {},
   "outputs": [
    {
     "output_type": "execute_result",
     "data": {
      "text/plain": "<tf.Tensor: shape=(6, 8), dtype=float32, numpy=\narray([[1., 1., 0., 0., 0., 0., 1., 1.],\n       [1., 1., 0., 0., 0., 0., 1., 1.],\n       [1., 1., 0., 0., 0., 0., 1., 1.],\n       [1., 1., 0., 0., 0., 0., 1., 1.],\n       [1., 1., 0., 0., 0., 0., 1., 1.],\n       [1., 1., 0., 0., 0., 0., 1., 1.]], dtype=float32)>"
     },
     "metadata": {},
     "execution_count": 9
    }
   ],
   "source": [
    "X"
   ]
  },
  {
   "cell_type": "code",
   "execution_count": 10,
   "metadata": {
    "tags": []
   },
   "outputs": [
    {
     "output_type": "stream",
     "name": "stdout",
     "text": "batch: 1, loss: 10.153135299682617\nbatch: 2, loss: 4.190521240234375\nbatch: 3, loss: 1.7367876768112183\nbatch: 4, loss: 0.724412202835083\nbatch: 5, loss: 0.30505460500717163\nbatch: 6, loss: 0.13028497993946075\nbatch: 7, loss: 0.0567789152264595\nbatch: 8, loss: 0.02544170618057251\nbatch: 9, loss: 0.011819346807897091\nbatch: 10, loss: 0.005736197344958782\n"
    }
   ],
   "source": [
    "kernel, _ = initializers.initialize_parameters(1, 2)\n",
    "\n",
    "for i in range(10):\n",
    "    with tf.GradientTape() as t:\n",
    "        Y_hat = tf.squeeze(\n",
    "            tf.nn.conv2d(\n",
    "                tf.reshape(X, (1,) + X.shape + (1,)),\n",
    "                tf.reshape(kernel, (kernel.shape + (1, 1))), \n",
    "                strides=1, \n",
    "                padding='VALID'\n",
    "            )\n",
    "        )\n",
    "        loss = (Y_hat - Y) ** 2\n",
    "    dW = t.gradient(loss, kernel)\n",
    "    kernel.assign_sub(dW * 3e-2)\n",
    "    print('batch: {}, loss: {}'.format(i + 1, tf.reduce_sum(loss)))"
   ]
  },
  {
   "cell_type": "markdown",
   "metadata": {},
   "source": [
    "## Multiple channels"
   ]
  },
  {
   "cell_type": "code",
   "execution_count": 11,
   "metadata": {},
   "outputs": [],
   "source": [
    "def corr2d_multi_in(X, kernel):\n",
    "    return tf.add_n([corr2d(x, k) for x, k in zip(X, kernel)])"
   ]
  },
  {
   "cell_type": "code",
   "execution_count": 12,
   "metadata": {},
   "outputs": [],
   "source": [
    "X = tf.convert_to_tensor([\n",
    "    [[0, 1, 2], [3, 4, 5], [6, 7, 8]],\n",
    "    [[1, 2, 3], [4, 5, 6], [7, 8, 9]]\n",
    "])\n",
    "\n",
    "kernel = tf.convert_to_tensor([\n",
    "    [[0, 1], [2, 3]],\n",
    "    [[1, 2], [3, 4]]\n",
    "])"
   ]
  },
  {
   "cell_type": "code",
   "execution_count": 13,
   "metadata": {
    "tags": []
   },
   "outputs": [
    {
     "output_type": "execute_result",
     "data": {
      "text/plain": "<tf.Tensor: shape=(2, 2), dtype=float32, numpy=\narray([[ 56.,  72.],\n       [104., 120.]], dtype=float32)>"
     },
     "metadata": {},
     "execution_count": 13
    }
   ],
   "source": [
    "corr2d_multi_in(X, kernel)"
   ]
  },
  {
   "cell_type": "code",
   "execution_count": 14,
   "metadata": {},
   "outputs": [],
   "source": [
    "def corr2d_multi_in_out(X, kernels):\n",
    "    return tf.stack([corr2d_multi_in(X, k) for k in kernels])"
   ]
  },
  {
   "cell_type": "code",
   "execution_count": 15,
   "metadata": {},
   "outputs": [],
   "source": [
    "kernels = tf.stack([kernel, kernel + 1, kernel + 2])"
   ]
  },
  {
   "cell_type": "code",
   "execution_count": 16,
   "metadata": {},
   "outputs": [
    {
     "output_type": "execute_result",
     "data": {
      "text/plain": "<tf.Tensor: shape=(3, 2, 2), dtype=float32, numpy=\narray([[[ 56.,  72.],\n        [104., 120.]],\n\n       [[ 76., 100.],\n        [148., 172.]],\n\n       [[ 96., 128.],\n        [192., 224.]]], dtype=float32)>"
     },
     "metadata": {},
     "execution_count": 16
    }
   ],
   "source": [
    "corr2d_multi_in_out(X, kernels)"
   ]
  },
  {
   "cell_type": "code",
   "execution_count": 17,
   "metadata": {},
   "outputs": [],
   "source": [
    "def corr2d_multi_in_out_1x1(X, kernels):\n",
    "    c_i, h, w = X.shape\n",
    "    c_o = kernels.shape[0]\n",
    "    X = tf.reshape(X, (c_i, h * w))\n",
    "    kernels = tf.reshape(kernels, (c_o, c_i))\n",
    "    Y = tf.matmul(kernels, X)\n",
    "    return tf.reshape(Y, (c_o, h, w))"
   ]
  },
  {
   "cell_type": "code",
   "execution_count": 18,
   "metadata": {
    "tags": []
   },
   "outputs": [],
   "source": [
    "X = tf.random.uniform(shape=(3, 3, 1))\n",
    "kernels = tf.random.uniform(shape=(2, 3, 1, 1))\n",
    "\n",
    "Y1 = corr2d_multi_in_out(X, kernels)\n",
    "Y2 = corr2d_multi_in_out_1x1(X, kernels)"
   ]
  },
  {
   "cell_type": "code",
   "execution_count": 19,
   "metadata": {},
   "outputs": [
    {
     "output_type": "execute_result",
     "data": {
      "text/plain": "<tf.Tensor: shape=(2, 3, 1), dtype=bool, numpy=\narray([[[ True],\n        [ True],\n        [ True]],\n\n       [[ True],\n        [ True],\n        [ True]]])>"
     },
     "metadata": {},
     "execution_count": 19
    }
   ],
   "source": [
    "(Y1 - Y2) < 1e-6"
   ]
  },
  {
   "cell_type": "markdown",
   "metadata": {},
   "source": [
    "## Conv2D Layer"
   ]
  },
  {
   "cell_type": "code",
   "execution_count": 20,
   "metadata": {},
   "outputs": [],
   "source": [
    "class Conv2D(layers.BaseLayer):\n",
    "    def __init__(\n",
    "        self, filters, kernel_shape, channels, activation=None,\n",
    "        initialization='gaussian', magnitude=None, scale=None\n",
    "    ):\n",
    "        Conv2D.__type__ = 'compute'\n",
    "        Conv2D._identifier += 1\n",
    "        self.__name__ = '{}_{}'.format(Conv2D.__name__, Conv2D._identifier).lower()\n",
    "\n",
    "        self.filter_shape = (channels,) + kernel_shape\n",
    "        self.filters = tf.Variable(tf.stack([\n",
    "            initializers.initialize_weights(\n",
    "                self.filter_shape, method=initialization, magnitude=magnitude, scale=scale\n",
    "             ) for _ in range(filters)\n",
    "        ]))\n",
    "        self.filter_shape = kernel_shape + (channels, filters)\n",
    "        self.kernel_shape = kernel_shape\n",
    "        self.channels = channels\n",
    "        self.activation = activations.get_activation(activation)\n",
    "\n",
    "    def __call__(self, X):\n",
    "        assert len(X.shape) == 4, 'Input must be 4 dimentional (batch_size, height, width, channels)'\n",
    "        return tf.squeeze(\n",
    "            tf.nn.conv2d(\n",
    "                tf.reshape(X, X.shape),\n",
    "                tf.reshape(self.filters, self.filter_shape), \n",
    "                strides=1, \n",
    "                padding='VALID'\n",
    "            )\n",
    "        )\n",
    "\n",
    "    def __repr__(self):\n",
    "        return str({\n",
    "            'name': self.__name__,\n",
    "            'type': self.__type__,\n",
    "            'kernel_shape': self.kernel_shape,\n",
    "            'channels': self.channels,\n",
    "            'activation': self.activation.__name__,\n",
    "            'filters': self.filters.numpy()\n",
    "        })"
   ]
  },
  {
   "cell_type": "code",
   "execution_count": 32,
   "metadata": {},
   "outputs": [],
   "source": [
    "X = np.ones((6, 8, 1))\n",
    "X[:, 2:6] = 0\n",
    "X = tf.convert_to_tensor(X, dtype=tf.float32)\n",
    "X = tf.stack([X])"
   ]
  },
  {
   "cell_type": "code",
   "execution_count": 33,
   "metadata": {},
   "outputs": [],
   "source": [
    "Y = np.zeros((6, 7))\n",
    "Y[:, 1] = 1\n",
    "Y[:, 5] = -1\n",
    "Y = tf.convert_to_tensor(Y, dtype=tf.float32)\n",
    "Y = tf.stack([Y])"
   ]
  },
  {
   "cell_type": "code",
   "execution_count": 34,
   "metadata": {
    "tags": []
   },
   "outputs": [
    {
     "output_type": "stream",
     "name": "stdout",
     "text": "batch: 1, loss: 14.498390197753906\nbatch: 2, loss: 5.938615798950195\nbatch: 3, loss: 2.432504653930664\nbatch: 4, loss: 0.9963845610618591\nbatch: 5, loss: 0.40813878178596497\nbatch: 6, loss: 0.1671862006187439\nbatch: 7, loss: 0.06848753243684769\nbatch: 8, loss: 0.028057638555765152\nbatch: 9, loss: 0.011495687067508698\nbatch: 10, loss: 0.004710735287517309\n"
    }
   ],
   "source": [
    "conv2d = Conv2D(1, (1, 2), 1)\n",
    "\n",
    "for i in range(10):\n",
    "    with tf.GradientTape() as t:\n",
    "        Y_hat = conv2d(X)\n",
    "        loss = (Y_hat - Y) ** 2\n",
    "    dW = t.gradient(loss, conv2d.filters)\n",
    "    conv2d.filters.assign_sub(dW * 3e-2)\n",
    "    print('batch: {}, loss: {}'.format(i + 1, tf.reduce_sum(loss)))"
   ]
  },
  {
   "cell_type": "markdown",
   "metadata": {},
   "source": [
    "# Pooling"
   ]
  },
  {
   "cell_type": "code",
   "execution_count": 37,
   "metadata": {},
   "outputs": [],
   "source": [
    "def pool2d(X, pool_size, mode='max'):\n",
    "    p_h, p_w = pool_size\n",
    "    Y = np.zeros((X.shape[0] - p_h + 1, X.shape[1] - p_w + 1))\n",
    "    for i in range(Y.shape[0]):\n",
    "        for j in range(Y.shape[1]):\n",
    "            if mode == 'max':\n",
    "                Y[i, j] = np.max(X[i: i + p_h, j: j + p_w])\n",
    "            elif mode == 'avg':\n",
    "                Y[i, j] = X[i: i + p_h, j: j + p_w].mean()\n",
    "    return tf.convert_to_tensor(Y)"
   ]
  },
  {
   "cell_type": "code",
   "execution_count": 42,
   "metadata": {
    "tags": []
   },
   "outputs": [
    {
     "output_type": "stream",
     "name": "stdout",
     "text": "[[1 2 3]\n [4 5 6]\n [7 8 9]] tf.Tensor(\n[[5. 6.]\n [8. 9.]], shape=(2, 2), dtype=float64)\n"
    }
   ],
   "source": [
    "X = np.array([\n",
    "    [1, 2, 3], [4, 5, 6], [7, 8, 9]\n",
    "])\n",
    "print(X, pool2d(X, (2, 2)))"
   ]
  }
 ],
 "metadata": {
  "language_info": {
   "codemirror_mode": {
    "name": "ipython",
    "version": 3
   },
   "file_extension": ".py",
   "mimetype": "text/x-python",
   "name": "python",
   "nbconvert_exporter": "python",
   "pygments_lexer": "ipython3",
   "version": "3.7.6-final"
  },
  "orig_nbformat": 2,
  "kernelspec": {
   "name": "python37664bitd2lconda06445091a0e1459fa904aa9d0606f621",
   "display_name": "Python 3.7.6 64-bit ('d2l': conda)"
  }
 },
 "nbformat": 4,
 "nbformat_minor": 2
}
