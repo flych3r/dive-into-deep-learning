{
 "cells": [
  {
   "cell_type": "code",
   "execution_count": 1,
   "metadata": {
    "tags": []
   },
   "outputs": [
    {
     "output_type": "stream",
     "name": "stdout",
     "text": "Tensorflow running on CPU\n"
    }
   ],
   "source": [
    "from tensorflow import keras\n",
    "import numpy as np\n",
    "import tensorflow as tf\n",
    "\n",
    "from d2l.tensorflow import config, data, plot\n",
    "\n",
    "config.setup('CPU')"
   ]
  },
  {
   "cell_type": "code",
   "execution_count": 2,
   "metadata": {},
   "outputs": [],
   "source": [
    "def vgg_block(num_convs, num_channels):\n",
    "    blk = keras.models.Sequential()\n",
    "    for _ in range(num_convs):\n",
    "        blk.add(keras.layers.Conv2D(filters=num_channels, kernel_size=3, padding='same', activation='relu'))\n",
    "    blk.add(keras.layers.MaxPool2D(pool_size=2, strides=2))\n",
    "    return blk"
   ]
  },
  {
   "cell_type": "code",
   "execution_count": 3,
   "metadata": {},
   "outputs": [],
   "source": [
    "def vgg(conv_arch):\n",
    "    net = keras.models.Sequential()\n",
    "    \n",
    "    for num_convs, num_channels in conv_arch:\n",
    "        net.add(vgg_block(num_convs, num_channels))\n",
    "\n",
    "    net.add(keras.layers.Flatten())\n",
    "    \n",
    "    net.add(keras.layers.Dense(units=4096, activation='relu'))\n",
    "    net.add(keras.layers.Dropout(rate=0.5))\n",
    "    net.add(keras.layers.Dense(units=4096, activation='relu'))\n",
    "    net.add(keras.layers.Dropout(rate=0.5))\n",
    "    \n",
    "    net.add(keras.layers.Dense(units=10, activation='softmax'))\n",
    "\n",
    "    net.build((None, 224, 224, 1))\n",
    "    return net"
   ]
  },
  {
   "cell_type": "code",
   "execution_count": 4,
   "metadata": {},
   "outputs": [],
   "source": [
    "conv_arch = ((1, 64), (1, 128), (2, 256), (2, 256), (2, 512), (2, 512))\n",
    "\n",
    "vgg11 = vgg(conv_arch)"
   ]
  },
  {
   "cell_type": "code",
   "execution_count": 5,
   "metadata": {
    "tags": []
   },
   "outputs": [
    {
     "output_type": "stream",
     "name": "stdout",
     "text": "Model: \"sequential\"\n_________________________________________________________________\nLayer (type)                 Output Shape              Param #   \n=================================================================\nsequential_1 (Sequential)    multiple                  640       \n_________________________________________________________________\nsequential_2 (Sequential)    multiple                  73856     \n_________________________________________________________________\nsequential_3 (Sequential)    multiple                  885248    \n_________________________________________________________________\nsequential_4 (Sequential)    multiple                  1180160   \n_________________________________________________________________\nsequential_5 (Sequential)    multiple                  3539968   \n_________________________________________________________________\nsequential_6 (Sequential)    multiple                  4719616   \n_________________________________________________________________\nflatten (Flatten)            multiple                  0         \n_________________________________________________________________\ndense (Dense)                multiple                  18878464  \n_________________________________________________________________\ndropout (Dropout)            multiple                  0         \n_________________________________________________________________\ndense_1 (Dense)              multiple                  16781312  \n_________________________________________________________________\ndropout_1 (Dropout)          multiple                  0         \n_________________________________________________________________\ndense_2 (Dense)              multiple                  40970     \n=================================================================\nTotal params: 46,100,234\nTrainable params: 46,100,234\nNon-trainable params: 0\n_________________________________________________________________\n"
    }
   ],
   "source": [
    "vgg11.summary()"
   ]
  },
  {
   "cell_type": "code",
   "execution_count": 6,
   "metadata": {
    "tags": []
   },
   "outputs": [
    {
     "output_type": "stream",
     "name": "stdout",
     "text": "sequential_1 output shape: (1, 112, 112, 64)\nsequential_2 output shape: (1, 56, 56, 128)\nsequential_3 output shape: (1, 28, 28, 256)\nsequential_4 output shape: (1, 14, 14, 256)\nsequential_5 output shape: (1, 7, 7, 512)\nsequential_6 output shape: (1, 3, 3, 512)\nflatten output shape: (1, 4608)\ndense output shape: (1, 4096)\ndropout output shape: (1, 4096)\ndense_1 output shape: (1, 4096)\ndropout_1 output shape: (1, 4096)\ndense_2 output shape: (1, 10)\n"
    }
   ],
   "source": [
    "X = np.random.uniform(size=(1, 224, 224, 1)).astype(np.float32)\n",
    "np.random.uniform()\n",
    "\n",
    "for layer in vgg11.layers:\n",
    "    X = layer(X)\n",
    "    print('{} output shape: {}'.format(layer.name, X.shape))"
   ]
  },
  {
   "cell_type": "code",
   "execution_count": 8,
   "metadata": {},
   "outputs": [],
   "source": [
    "ratio = 8\n",
    "small_conv_arch = [(c, f // ratio) for c, f in conv_arch]\n",
    "small_vgg11 = vgg(small_conv_arch)\n",
    "small_vgg11.build(input_shape=(None, 224, 224, 1))"
   ]
  },
  {
   "cell_type": "code",
   "execution_count": 9,
   "metadata": {},
   "outputs": [],
   "source": [
    "batch_size = 128\n",
    "epochs = 5\n",
    "learning_rate = 0.03\n",
    "\n",
    "optmizer = keras.optimizers.SGD(learning_rate=learning_rate)\n",
    "loss = keras.losses.CategoricalCrossentropy()\n",
    "metric = keras.metrics.CategoricalAccuracy()\n",
    "\n",
    "small_vgg11.compile(optimizer=optmizer, loss=loss, metrics=metric)"
   ]
  },
  {
   "cell_type": "code",
   "execution_count": 10,
   "metadata": {},
   "outputs": [],
   "source": [
    "X_train, y_train, X_test, y_test = data.load_fashion_mnist_keras()"
   ]
  },
  {
   "cell_type": "code",
   "execution_count": 11,
   "metadata": {},
   "outputs": [],
   "source": [
    "train_iter = data.resize_images_generator(X_train, y_train, batch_size, [224, 224])\n",
    "test_iter = data.resize_images_generator(X_test, y_test, batch_size, [224, 224])\n",
    "\n",
    "train_steps = len(X_train) // batch_size + 1\n",
    "val_steps = len(X_test) // batch_size + 1"
   ]
  },
  {
   "cell_type": "code",
   "execution_count": 12,
   "metadata": {
    "tags": []
   },
   "outputs": [],
   "source": [
    "# hist = small_vgg11.fit(train_iter, epochs=epochs, validation_data=test_iter, steps_per_epoch=train_steps, validation_steps=val_steps)"
   ]
  },
  {
   "cell_type": "code",
   "execution_count": 13,
   "metadata": {},
   "outputs": [],
   "source": [
    "# plot.plot_history(hist, 'categorical_accuracy')"
   ]
  }
 ],
 "metadata": {
  "language_info": {
   "codemirror_mode": {
    "name": "ipython",
    "version": 3
   },
   "file_extension": ".py",
   "mimetype": "text/x-python",
   "name": "python",
   "nbconvert_exporter": "python",
   "pygments_lexer": "ipython3",
   "version": "3.7.6-final"
  },
  "orig_nbformat": 2,
  "kernelspec": {
   "name": "python37664bitd2lconda06445091a0e1459fa904aa9d0606f621",
   "display_name": "Python 3.7.6 64-bit ('d2l': conda)"
  }
 },
 "nbformat": 4,
 "nbformat_minor": 2
}
