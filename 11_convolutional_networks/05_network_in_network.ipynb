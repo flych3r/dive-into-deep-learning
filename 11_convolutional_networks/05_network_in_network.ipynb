{
 "cells": [
  {
   "cell_type": "markdown",
   "metadata": {},
   "source": [
    "# NiN"
   ]
  },
  {
   "cell_type": "code",
   "execution_count": 1,
   "metadata": {
    "tags": []
   },
   "outputs": [
    {
     "output_type": "stream",
     "name": "stdout",
     "text": "Tensorflow running on CPU\n"
    }
   ],
   "source": [
    "from tensorflow import keras\n",
    "import numpy as np\n",
    "import tensorflow as tf\n",
    "\n",
    "from d2l.tensorflow import config, data, plot\n",
    "\n",
    "config.setup('CPU')"
   ]
  },
  {
   "cell_type": "markdown",
   "metadata": {},
   "source": [
    "## NiN block"
   ]
  },
  {
   "cell_type": "code",
   "execution_count": 2,
   "metadata": {},
   "outputs": [],
   "source": [
    "def nin_block(num_channels, kernel_size, strides, padding):\n",
    "    blk = keras.models.Sequential()\n",
    "    keras.layers.ZeroPadding2D(padding=padding)\n",
    "    blk.add(keras.layers.Conv2D(\n",
    "        filters=num_channels, kernel_size=kernel_size, strides=strides, activation='relu'\n",
    "    ))\n",
    "    blk.add(keras.layers.Conv2D(filters=num_channels, kernel_size=1, activation='relu'))\n",
    "    blk.add(keras.layers.Conv2D(filters=num_channels, kernel_size=1, activation='relu'))\n",
    "\n",
    "    return blk"
   ]
  },
  {
   "cell_type": "markdown",
   "metadata": {},
   "source": [
    "## NiN model"
   ]
  },
  {
   "cell_type": "code",
   "execution_count": 3,
   "metadata": {},
   "outputs": [],
   "source": [
    "nin = keras.models.Sequential()\n",
    "\n",
    "nin.add(nin_block(num_channels=96, kernel_size=11, strides=4, padding=0))\n",
    "nin.add(keras.layers.MaxPool2D(pool_size=3, strides=2, padding='same'))\n",
    "nin.add(nin_block(num_channels=256, kernel_size=5, strides=1, padding=2))\n",
    "nin.add(keras.layers.MaxPool2D(pool_size=3, strides=2, padding='same'))\n",
    "nin.add(nin_block(num_channels=384, kernel_size=3, strides=1, padding=1))\n",
    "nin.add(keras.layers.MaxPool2D(pool_size=3, strides=2, padding='same'))\n",
    "\n",
    "nin.add(keras.layers.Dropout(rate=0.5))\n",
    "nin.add(nin_block(num_channels=10, kernel_size=3, strides=1, padding=1))\n",
    "nin.add(keras.layers.GlobalAvgPool2D())\n",
    "\n",
    "nin.add(keras.layers.Flatten())\n",
    "\n",
    "nin.build((None, 224, 224, 1))"
   ]
  },
  {
   "cell_type": "code",
   "execution_count": 4,
   "metadata": {
    "tags": []
   },
   "outputs": [
    {
     "output_type": "stream",
     "name": "stdout",
     "text": "Model: \"sequential\"\n_________________________________________________________________\nLayer (type)                 Output Shape              Param #   \n=================================================================\nsequential_1 (Sequential)    multiple                  30336     \n_________________________________________________________________\nmax_pooling2d (MaxPooling2D) multiple                  0         \n_________________________________________________________________\nsequential_2 (Sequential)    multiple                  746240    \n_________________________________________________________________\nmax_pooling2d_1 (MaxPooling2 multiple                  0         \n_________________________________________________________________\nsequential_3 (Sequential)    multiple                  1180800   \n_________________________________________________________________\nmax_pooling2d_2 (MaxPooling2 multiple                  0         \n_________________________________________________________________\ndropout (Dropout)            multiple                  0         \n_________________________________________________________________\nsequential_4 (Sequential)    multiple                  34790     \n_________________________________________________________________\nglobal_average_pooling2d (Gl multiple                  0         \n_________________________________________________________________\nflatten (Flatten)            multiple                  0         \n=================================================================\nTotal params: 1,992,166\nTrainable params: 1,992,166\nNon-trainable params: 0\n_________________________________________________________________\n"
    }
   ],
   "source": [
    "nin.summary()"
   ]
  },
  {
   "cell_type": "code",
   "execution_count": 5,
   "metadata": {
    "tags": []
   },
   "outputs": [
    {
     "output_type": "stream",
     "name": "stdout",
     "text": "sequential_1 output shape: (1, 54, 54, 96)\nmax_pooling2d output shape: (1, 27, 27, 96)\nsequential_2 output shape: (1, 23, 23, 256)\nmax_pooling2d_1 output shape: (1, 12, 12, 256)\nsequential_3 output shape: (1, 10, 10, 384)\nmax_pooling2d_2 output shape: (1, 5, 5, 384)\ndropout output shape: (1, 5, 5, 384)\nsequential_4 output shape: (1, 3, 3, 10)\nglobal_average_pooling2d output shape: (1, 10)\nflatten output shape: (1, 10)\n"
    }
   ],
   "source": [
    "X = np.random.uniform(size=(1, 224, 224, 1)).astype(np.float32)\n",
    "\n",
    "for layer in nin.layers:\n",
    "    X = layer(X)\n",
    "    print('{} output shape: {}'.format(layer.name, X.shape))"
   ]
  },
  {
   "cell_type": "markdown",
   "metadata": {},
   "source": [
    "## Training"
   ]
  },
  {
   "cell_type": "code",
   "execution_count": 6,
   "metadata": {},
   "outputs": [],
   "source": [
    "batch_size = 128\n",
    "epochs = 5\n",
    "learning_rate = 0.1\n",
    "\n",
    "optmizer = keras.optimizers.SGD(learning_rate=learning_rate)\n",
    "loss = keras.losses.CategoricalCrossentropy()\n",
    "metric = keras.metrics.CategoricalAccuracy()\n",
    "\n",
    "nin.compile(optimizer=optmizer, loss=loss, metrics=metric)"
   ]
  },
  {
   "cell_type": "code",
   "execution_count": 7,
   "metadata": {},
   "outputs": [],
   "source": [
    "X_train, y_train, X_test, y_test = data.load_fashion_mnist_keras()\n",
    "\n",
    "train_iter = data.resize_images_generator(X_train, y_train, batch_size, [224, 224])\n",
    "test_iter = data.resize_images_generator(X_test, y_test, batch_size, [224, 224])\n",
    "\n",
    "train_steps = len(X_train) // batch_size + 1\n",
    "val_steps = len(X_test) // batch_size + 1"
   ]
  },
  {
   "cell_type": "code",
   "execution_count": 8,
   "metadata": {
    "tags": []
   },
   "outputs": [],
   "source": [
    "# hist = nin.fit(train_iter, epochs=epochs, validation_data=test_iter, steps_per_epoch=train_steps, validation_steps=val_steps)"
   ]
  },
  {
   "cell_type": "code",
   "execution_count": 9,
   "metadata": {},
   "outputs": [],
   "source": [
    "# plot.plot_history(hist, 'categorical_accuracy')"
   ]
  }
 ],
 "metadata": {
  "language_info": {
   "codemirror_mode": {
    "name": "ipython",
    "version": 3
   },
   "file_extension": ".py",
   "mimetype": "text/x-python",
   "name": "python",
   "nbconvert_exporter": "python",
   "pygments_lexer": "ipython3",
   "version": "3.7.6-final"
  },
  "orig_nbformat": 2,
  "kernelspec": {
   "name": "python37664bitd2lconda06445091a0e1459fa904aa9d0606f621",
   "display_name": "Python 3.7.6 64-bit ('d2l': conda)"
  }
 },
 "nbformat": 4,
 "nbformat_minor": 2
}
