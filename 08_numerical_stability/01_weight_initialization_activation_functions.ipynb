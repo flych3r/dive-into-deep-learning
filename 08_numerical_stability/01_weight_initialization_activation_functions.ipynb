{
 "cells": [
  {
   "cell_type": "code",
   "execution_count": 1,
   "metadata": {
    "tags": []
   },
   "outputs": [
    {
     "output_type": "stream",
     "name": "stdout",
     "text": "Tensorflow running on CPU\n"
    }
   ],
   "source": [
    "import tensorflow as tf\n",
    "\n",
    "from d2l.tensorflow import activations, config\n",
    "\n",
    "config.setup()"
   ]
  },
  {
   "cell_type": "markdown",
   "metadata": {},
   "source": [
    "## Product of Random Matrices"
   ]
  },
  {
   "cell_type": "code",
   "execution_count": 2,
   "metadata": {},
   "outputs": [],
   "source": [
    "def prod_rand_matrices(scale, k):\n",
    "    Y = tf.linalg.diag(tf.ones(k))\n",
    "    for i in range(100):\n",
    "        W = tf.random.normal(shape=(k,k), stddev=scale)\n",
    "        Y = tf.matmul(W, Y)\n",
    "    return Y"
   ]
  },
  {
   "cell_type": "code",
   "execution_count": 3,
   "metadata": {
    "tags": []
   },
   "outputs": [
    {
     "output_type": "stream",
     "name": "stdout",
     "text": "tf.Tensor(\n[[-2.1154235e-06 -1.1732027e-06  5.2702433e-07  5.2780308e-07]\n [-4.5664733e-06 -2.5325417e-06  1.1376648e-06  1.1393455e-06]\n [ 1.5081496e-05  8.3641171e-06 -3.7573168e-06 -3.7628677e-06]\n [ 2.9725579e-06  1.6485643e-06 -7.4056584e-07 -7.4165985e-07]], shape=(4, 4), dtype=float32)\ntf.Tensor(\n[[ -123450.984   135300.22    -71703.45    -73859.516]\n [-1506923.9    1651563.     -875273.8    -901579.94 ]\n [ 2089105.8   -2289624.     1213433.     1249895.6  ]\n [ -432368.3     473867.88   -251139.94   -258683.12 ]], shape=(4, 4), dtype=float32)\n"
    }
   ],
   "source": [
    "print(prod_rand_matrices(.5, 4))\n",
    "print(prod_rand_matrices(.7, 4))"
   ]
  },
  {
   "cell_type": "markdown",
   "metadata": {},
   "source": [
    "## Synthetic Gradients for MLP"
   ]
  },
  {
   "cell_type": "code",
   "execution_count": 4,
   "metadata": {},
   "outputs": [],
   "source": [
    "def synthetic_grad(k, sigma, d_sigma, get_weight):\n",
    "    res = []\n",
    "    for repeat in range(10):\n",
    "        x = tf.random.normal(shape=(k,))\n",
    "        h = tf.ones(k)\n",
    "        Y = tf.linalg.diag(tf.ones(k))\n",
    "        for i in range(50):\n",
    "            W = get_weight((k, k))\n",
    "            Wh = tf.tensordot(W, h, axes=1)\n",
    "            Y = tf.matmul(tf.cast(d_sigma(Wh), Y.dtype)*tf.linalg.matrix_transpose(W), Y)\n",
    "            h = sigma(Wh)\n",
    "        res.append(tf.reduce_mean(tf.abs(Y)))\n",
    "    return sum(res)/len(res)"
   ]
  },
  {
   "cell_type": "markdown",
   "metadata": {},
   "source": [
    "## ReLU "
   ]
  },
  {
   "cell_type": "code",
   "execution_count": 5,
   "metadata": {
    "tags": []
   },
   "outputs": [
    {
     "output_type": "stream",
     "name": "stdout",
     "text": "scale: 0.1, gradient mean: 1.508836611208153e-09\nscale: 0.2, gradient mean: 1234917.875\nscale: 0.4, gradient mean: 1.4625296237647563e+21\nscale: 0.8, gradient mean: inf\n"
    }
   ],
   "source": [
    "k = 100\n",
    "sigma = activations.relu\n",
    "d_sigma = lambda x : x > 0\n",
    "\n",
    "def get_weight(scale):\n",
    "    return lambda shape : tf.random.normal(stddev=scale, shape=shape)\n",
    "\n",
    "for scale in [0.1, 0.2, 0.4, 0.8]:\n",
    "    print('scale: {}, gradient mean: {}'.format(scale, synthetic_grad(k, sigma, d_sigma, get_weight(scale))))"
   ]
  },
  {
   "cell_type": "markdown",
   "metadata": {},
   "source": [
    "## Xavier Initialization"
   ]
  },
  {
   "cell_type": "code",
   "execution_count": 6,
   "metadata": {
    "tags": []
   },
   "outputs": [
    {
     "output_type": "stream",
     "name": "stdout",
     "text": "scale: 0.17320508075688773, gradient mean: 1.0979059883453601e-09\n"
    }
   ],
   "source": [
    "scale = (6.0/(k+k))**.5\n",
    "\n",
    "xavier = lambda shape : tf.random.uniform(minval=-scale, maxval=scale, shape=shape)\n",
    "\n",
    "print('scale: {}, gradient mean: {}'.format(scale, synthetic_grad(k, sigma, d_sigma, xavier)))"
   ]
  },
  {
   "cell_type": "markdown",
   "metadata": {},
   "source": [
    "## Sigmoid"
   ]
  },
  {
   "cell_type": "code",
   "execution_count": 7,
   "metadata": {
    "tags": []
   },
   "outputs": [
    {
     "output_type": "stream",
     "name": "stdout",
     "text": "scale: 0.1, gradient mean: 2.5721869837685743e-33\nscale: 0.2, gradient mean: 3.481075305139694e-21\nscale: 0.4, gradient mean: 3.0426941348415948e-12\nscale: 0.8, gradient mean: 3.7135923776077107e-05\n"
    }
   ],
   "source": [
    "sigma = activations.sigmoid\n",
    "\n",
    "d_sigma = lambda x : (1 - activations.sigmoid(x)) * activations.sigmoid(x)\n",
    "\n",
    "for scale in [0.1, 0.2, 0.4, 0.8]:\n",
    "   print('scale: {}, gradient mean: {}'.format(scale, synthetic_grad(k, sigma, d_sigma, get_weight(scale))))"
   ]
  },
  {
   "cell_type": "markdown",
   "metadata": {},
   "source": [
    "## Scaled Sigmoid"
   ]
  },
  {
   "cell_type": "code",
   "execution_count": 8,
   "metadata": {
    "tags": []
   },
   "outputs": [
    {
     "output_type": "stream",
     "name": "stdout",
     "text": "scale: 0.1, gradient mean: 1.2319835400034187e-32\nscale: 0.2, gradient mean: 7.945435420778586e-29\nscale: 0.4, gradient mean: 4.8646900012430355e-23\nscale: 0.8, gradient mean: 5.992310100804416e-17\n"
    }
   ],
   "source": [
    "sigma = lambda x: 4 * activations.sigmoid(x) - 2\n",
    "\n",
    "d_sigma = lambda x : (1 - activations.sigmoid(x)) * activations.sigmoid(x)\n",
    "\n",
    "for scale in [0.1, 0.2, 0.4, 0.8]:\n",
    "   print('scale: {}, gradient mean: {}'.format(scale, synthetic_grad(k, sigma, d_sigma, get_weight(scale))))"
   ]
  },
  {
   "cell_type": "code",
   "execution_count": null,
   "metadata": {},
   "outputs": [],
   "source": []
  }
 ],
 "metadata": {
  "language_info": {
   "codemirror_mode": {
    "name": "ipython",
    "version": 3
   },
   "file_extension": ".py",
   "mimetype": "text/x-python",
   "name": "python",
   "nbconvert_exporter": "python",
   "pygments_lexer": "ipython3",
   "version": "3.7.6-final"
  },
  "orig_nbformat": 2,
  "kernelspec": {
   "name": "python37664bitd2lconda06445091a0e1459fa904aa9d0606f621",
   "display_name": "Python 3.7.6 64-bit ('d2l': conda)"
  }
 },
 "nbformat": 4,
 "nbformat_minor": 2
}
