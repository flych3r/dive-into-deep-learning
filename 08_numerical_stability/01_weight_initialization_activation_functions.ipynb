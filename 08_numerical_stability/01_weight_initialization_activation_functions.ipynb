{
 "cells": [
  {
   "cell_type": "code",
   "execution_count": 1,
   "metadata": {},
   "outputs": [],
   "source": [
    "import tensorflow as tf\n",
    "\n",
    "from d2l.tensorflow import activations, config\n",
    "\n",
    "config.setup()"
   ]
  },
  {
   "cell_type": "markdown",
   "metadata": {},
   "source": [
    "## Product of Random Matrices"
   ]
  },
  {
   "cell_type": "code",
   "execution_count": 2,
   "metadata": {},
   "outputs": [],
   "source": [
    "def prod_rand_matrices(scale, k):\n",
    "    Y = tf.linalg.diag(tf.ones(k))\n",
    "    for i in range(100):\n",
    "        W = tf.random.normal(shape=(k,k), stddev=scale)\n",
    "        Y = tf.matmul(W, Y)\n",
    "    return Y"
   ]
  },
  {
   "cell_type": "code",
   "execution_count": 3,
   "metadata": {
    "tags": []
   },
   "outputs": [
    {
     "output_type": "stream",
     "name": "stdout",
     "text": "tf.Tensor(\n[[-4.2779675e-06 -3.5363096e-06 -3.0927210e-06 -2.3479388e-05]\n [ 5.3980875e-06  4.4622416e-06  3.9025076e-06  2.9627141e-05]\n [-1.1556385e-05 -9.5528976e-06 -8.3546038e-06 -6.3426662e-05]\n [-2.4241519e-05 -2.0038859e-05 -1.7525233e-05 -1.3304842e-04]], shape=(4, 4), dtype=float32)\ntf.Tensor(\n[[ 2.1075683e+09 -4.7513046e+08  2.1987050e+08 -1.3153852e+09]\n [ 1.5215660e+09 -3.4302051e+08  1.5873787e+08 -9.4964397e+08]\n [ 1.6398280e+09 -3.6968288e+08  1.7107405e+08 -1.0234568e+09]\n [-6.0103840e+07  1.3549240e+07 -6.2708960e+06  3.7511200e+07]], shape=(4, 4), dtype=float32)\n"
    }
   ],
   "source": [
    "print(prod_rand_matrices(.5, 4))\n",
    "print(prod_rand_matrices(.7, 4))"
   ]
  },
  {
   "cell_type": "markdown",
   "metadata": {},
   "source": [
    "## Synthetic Gradients for MLP"
   ]
  },
  {
   "cell_type": "code",
   "execution_count": 4,
   "metadata": {},
   "outputs": [],
   "source": [
    "def synthetic_grad(k, sigma, d_sigma, get_weight):\n",
    "    res = []\n",
    "    for repeat in range(10):\n",
    "        x = tf.random.normal(shape=(k,))\n",
    "        h = tf.ones(k)\n",
    "        Y = tf.linalg.diag(tf.ones(k))\n",
    "        for i in range(50):\n",
    "            W = get_weight((k, k))\n",
    "            Wh = tf.tensordot(W, h, axes=1)\n",
    "            Y = tf.matmul(tf.cast(d_sigma(Wh), Y.dtype)*tf.linalg.matrix_transpose(W), Y)\n",
    "            h = sigma(Wh)\n",
    "        res.append(tf.reduce_mean(tf.abs(Y)))\n",
    "    return sum(res)/len(res)"
   ]
  },
  {
   "cell_type": "markdown",
   "metadata": {},
   "source": [
    "## ReLU "
   ]
  },
  {
   "cell_type": "code",
   "execution_count": 5,
   "metadata": {
    "tags": []
   },
   "outputs": [
    {
     "output_type": "stream",
     "name": "stdout",
     "text": "scale: 0.1, gradient mean: 9.869954853414242e-10\nscale: 0.2, gradient mean: 1718322.25\nscale: 0.4, gradient mean: 1.2986619291982302e+21\nscale: 0.8, gradient mean: inf\n"
    }
   ],
   "source": [
    "k = 100\n",
    "sigma = activations.relu\n",
    "d_sigma = lambda x : x > 0\n",
    "\n",
    "def get_weight(scale):\n",
    "    return lambda shape : tf.random.normal(stddev=scale, shape=shape)\n",
    "\n",
    "for scale in [0.1, 0.2, 0.4, 0.8]:\n",
    "    print('scale: {}, gradient mean: {}'.format(scale, synthetic_grad(k, sigma, d_sigma, get_weight(scale))))"
   ]
  },
  {
   "cell_type": "markdown",
   "metadata": {},
   "source": [
    "## Xavier Initialization"
   ]
  },
  {
   "cell_type": "code",
   "execution_count": 6,
   "metadata": {
    "tags": []
   },
   "outputs": [
    {
     "output_type": "stream",
     "name": "stdout",
     "text": "scale: 0.17320508075688773, gradient mean: 1.2340025667967325e-09\n"
    }
   ],
   "source": [
    "scale = (6.0/(k+k))**.5\n",
    "\n",
    "xavier = lambda shape : tf.random.uniform(minval=-scale, maxval=scale, shape=shape)\n",
    "\n",
    "print('scale: {}, gradient mean: {}'.format(scale, synthetic_grad(k, sigma, d_sigma, xavier)))"
   ]
  },
  {
   "cell_type": "markdown",
   "metadata": {},
   "source": [
    "## Sigmoid"
   ]
  },
  {
   "cell_type": "code",
   "execution_count": 7,
   "metadata": {
    "tags": []
   },
   "outputs": [
    {
     "output_type": "stream",
     "name": "stdout",
     "text": "scale: 0.1, gradient mean: 2.8542174658896117e-33\nscale: 0.2, gradient mean: 3.0173028430005577e-21\nscale: 0.4, gradient mean: 2.605374032835228e-12\nscale: 0.8, gradient mean: 3.6048055335413665e-05\n"
    }
   ],
   "source": [
    "sigma = activations.sigmoid\n",
    "\n",
    "d_sigma = lambda x : (1 - activations.sigmoid(x)) * activations.sigmoid(x)\n",
    "\n",
    "for scale in [0.1, 0.2, 0.4, 0.8]:\n",
    "   print('scale: {}, gradient mean: {}'.format(scale, synthetic_grad(k, sigma, d_sigma, get_weight(scale))))"
   ]
  },
  {
   "cell_type": "markdown",
   "metadata": {},
   "source": [
    "## Scaled Sigmoid"
   ]
  },
  {
   "cell_type": "code",
   "execution_count": 8,
   "metadata": {
    "tags": []
   },
   "outputs": [
    {
     "output_type": "stream",
     "name": "stdout",
     "text": "scale: 0.1, gradient mean: 1.1707341864486327e-32\nscale: 0.2, gradient mean: 1.1733920779173673e-28\nscale: 0.4, gradient mean: 8.963709714612384e-23\nscale: 0.8, gradient mean: 8.619116765428632e-17\n"
    }
   ],
   "source": [
    "sigma = lambda x: 4 * activations.sigmoid(x) - 2\n",
    "\n",
    "d_sigma = lambda x : (1 - activations.sigmoid(x)) * activations.sigmoid(x)\n",
    "\n",
    "for scale in [0.1, 0.2, 0.4, 0.8]:\n",
    "   print('scale: {}, gradient mean: {}'.format(scale, synthetic_grad(k, sigma, d_sigma, get_weight(scale))))"
   ]
  },
  {
   "cell_type": "code",
   "execution_count": null,
   "metadata": {},
   "outputs": [],
   "source": []
  }
 ],
 "metadata": {
  "language_info": {
   "codemirror_mode": {
    "name": "ipython",
    "version": 3
   },
   "file_extension": ".py",
   "mimetype": "text/x-python",
   "name": "python",
   "nbconvert_exporter": "python",
   "pygments_lexer": "ipython3",
   "version": "3.7.6-final"
  },
  "orig_nbformat": 2,
  "kernelspec": {
   "name": "python37664bitd2lconda06445091a0e1459fa904aa9d0606f621",
   "display_name": "Python 3.7.6 64-bit ('d2l': conda)"
  }
 },
 "nbformat": 4,
 "nbformat_minor": 2
}