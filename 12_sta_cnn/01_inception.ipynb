{
 "cells": [
  {
   "cell_type": "markdown",
   "metadata": {},
   "source": [
    "# Inception (Google LeNet)"
   ]
  },
  {
   "cell_type": "code",
   "execution_count": 1,
   "metadata": {
    "tags": []
   },
   "outputs": [
    {
     "output_type": "stream",
     "name": "stdout",
     "text": "Tensorflow running on CPU\n"
    }
   ],
   "source": [
    "from tensorflow import keras\n",
    "from tensorflow.keras import layers, models\n",
    "\n",
    "import numpy as np\n",
    "\n",
    "from d2l.tensorflow import config, data\n",
    "\n",
    "config.setup('CPU')"
   ]
  },
  {
   "cell_type": "markdown",
   "metadata": {},
   "source": [
    "## Inception Block"
   ]
  },
  {
   "cell_type": "code",
   "execution_count": 2,
   "metadata": {},
   "outputs": [],
   "source": [
    "class InceptionBlock(layers.Layer):\n",
    "    def __init__(self, c1, c2, c3, c4, **kwargs):\n",
    "        super(InceptionBlock, self).__init__(**kwargs)\n",
    "        # Path 1 is a 1 x 1 conv layer\n",
    "        self.p1_1 = layers.Conv2D(c1, kernel_size=1, activation='relu')\n",
    "        # Path 2 is a 1 x 1 conv layer followed by a 3 x 3 conv layer\n",
    "        self.p2_1 = layers.Conv2D(c2[0], kernel_size=1, activation='relu')\n",
    "        self.p2_pad = layers.ZeroPadding2D(1)\n",
    "        self.p2_2 = layers.Conv2D(c2[1], kernel_size=3, activation='relu')\n",
    "        # Path 3 is a 1 x 1 conv layer followed by a 5 x 5 conv layer\n",
    "        self.p3_1 = layers.Conv2D(c3[0], kernel_size=1, activation='relu')\n",
    "        self.p3_pad =  layers.ZeroPadding2D(2)\n",
    "        self.p3_2 = layers.Conv2D(c3[1], kernel_size=5, activation='relu')\n",
    "\n",
    "        # Path 4 is a 3 x 3 max pool layer followed by a 1 x 1 conv layer\n",
    "        self.p4_pad = layers.ZeroPadding2D(1)\n",
    "        self.p4_1 = layers.MaxPool2D(3, strides=1)\n",
    "        self.p4_2 = layers.Conv2D(c4, kernel_size=1, activation='relu')\n",
    "    \n",
    "    def call(self, inputs):\n",
    "        p1 = self.p1_1(inputs)\n",
    "        p2 = self.p2_2(self.p2_pad(self.p2_1(inputs)))\n",
    "        p3 = self.p3_2(self.p3_pad(self.p3_1(inputs)))\n",
    "        p4 = self.p4_2(self.p4_1(self.p4_pad(inputs)))\n",
    "        return layers.Concatenate(axis=-1)([p1, p2, p3, p4])"
   ]
  },
  {
   "cell_type": "markdown",
   "metadata": {},
   "source": [
    "### Inception stage 1"
   ]
  },
  {
   "cell_type": "code",
   "execution_count": 3,
   "metadata": {},
   "outputs": [],
   "source": [
    "stage1 = models.Sequential()\n",
    "stage1._name = \"stage_1\"\n",
    "\n",
    "stage1.add(layers.ZeroPadding2D(3))\n",
    "stage1.add(layers.Conv2D(64, kernel_size=7, strides=2, activation='relu'))\n",
    "stage1.add(layers.ZeroPadding2D(1))\n",
    "stage1.add(layers.MaxPool2D(3, strides=2))"
   ]
  },
  {
   "cell_type": "markdown",
   "metadata": {},
   "source": [
    "### Inception stage 2"
   ]
  },
  {
   "cell_type": "code",
   "execution_count": 4,
   "metadata": {},
   "outputs": [],
   "source": [
    "stage2 = models.Sequential()\n",
    "stage2._name = \"stage_2\"\n",
    "\n",
    "stage2.add(layers.Conv2D(64, kernel_size=1, activation='relu'))\n",
    "stage2.add(layers.ZeroPadding2D(1))\n",
    "stage2.add(layers.Conv2D(192, kernel_size=3, strides=2, activation='relu'))\n",
    "stage2.add(layers.ZeroPadding2D(1))\n",
    "stage2.add(layers.MaxPool2D(3, strides=2))"
   ]
  },
  {
   "cell_type": "markdown",
   "metadata": {},
   "source": [
    "### Inception stage 3"
   ]
  },
  {
   "cell_type": "code",
   "execution_count": 5,
   "metadata": {},
   "outputs": [],
   "source": [
    "stage3 = models.Sequential()\n",
    "stage3._name = \"stage_3\"\n",
    "\n",
    "stage3.add(InceptionBlock(64, (96, 128), (16, 32), 32))\n",
    "stage3.add(InceptionBlock(128, (128, 192), (32, 96), 64))\n",
    "stage3.add(layers.ZeroPadding2D(1))\n",
    "stage3.add(layers.MaxPool2D(3, strides=2))"
   ]
  },
  {
   "cell_type": "markdown",
   "metadata": {},
   "source": [
    "### Inception stage 4"
   ]
  },
  {
   "cell_type": "code",
   "execution_count": 6,
   "metadata": {},
   "outputs": [],
   "source": [
    "stage4 = models.Sequential()\n",
    "stage4._name = \"stage_4\"\n",
    "\n",
    "stage4.add(InceptionBlock(192, (96, 208), (16, 48), 64))\n",
    "stage4.add(InceptionBlock(160, (112, 224), (24, 64), 64))\n",
    "stage4.add(InceptionBlock(128, (128, 256), (24, 64), 64))\n",
    "stage4.add(InceptionBlock(112, (144, 288), (32, 64), 64))\n",
    "stage4.add(InceptionBlock(256, (160, 320), (32, 128), 128))\n",
    "stage4.add(layers.ZeroPadding2D(1))\n",
    "stage4.add(layers.MaxPool2D(3, strides=2))"
   ]
  },
  {
   "cell_type": "markdown",
   "metadata": {},
   "source": [
    "### Inception stage 5"
   ]
  },
  {
   "cell_type": "code",
   "execution_count": 7,
   "metadata": {},
   "outputs": [],
   "source": [
    "stage5 = models.Sequential()\n",
    "stage5._name = \"stage_5\"\n",
    "\n",
    "stage5.add(InceptionBlock(256, (160, 320), (32, 128), 128))\n",
    "stage5.add(InceptionBlock(384, (192, 384), (48, 128), 128))\n",
    "stage5.add(layers.GlobalAvgPool2D())"
   ]
  },
  {
   "cell_type": "markdown",
   "metadata": {},
   "source": [
    "## Inception Model"
   ]
  },
  {
   "cell_type": "code",
   "execution_count": 8,
   "metadata": {},
   "outputs": [],
   "source": [
    "inception = models.Sequential()\n",
    "\n",
    "for stage in (stage1, stage2, stage3, stage4, stage5):\n",
    "    inception.add(stage)\n",
    "\n",
    "inception.add(layers.Dense(10, activation='softmax'))\n",
    "\n",
    "inception.build((None, 96, 96, 1))"
   ]
  },
  {
   "cell_type": "code",
   "execution_count": 9,
   "metadata": {
    "tags": []
   },
   "outputs": [
    {
     "output_type": "stream",
     "name": "stdout",
     "text": "stage_1 output shape: (1, 24, 24, 64)\nstage_2 output shape: (1, 6, 6, 192)\nstage_3 output shape: (1, 3, 3, 480)\nstage_4 output shape: (1, 2, 2, 832)\nstage_5 output shape: (1, 1024)\ndense output shape: (1, 10)\n"
    }
   ],
   "source": [
    "X = np.random.uniform(size=(1, 96, 96, 1)).astype(np.float32)\n",
    "\n",
    "for layer in inception.layers:\n",
    "    X = layer(X)\n",
    "    print('{} output shape: {}'.format(layer.name, X.shape))"
   ]
  },
  {
   "cell_type": "code",
   "execution_count": 10,
   "metadata": {
    "tags": []
   },
   "outputs": [
    {
     "output_type": "stream",
     "name": "stdout",
     "text": "Model: \"sequential_5\"\n_________________________________________________________________\nLayer (type)                 Output Shape              Param #   \n=================================================================\nstage_1 (Sequential)         multiple                  3200      \n_________________________________________________________________\nstage_2 (Sequential)         multiple                  114944    \n_________________________________________________________________\nstage_3 (Sequential)         multiple                  552432    \n_________________________________________________________________\nstage_4 (Sequential)         multiple                  2809168   \n_________________________________________________________________\nstage_5 (Sequential)         multiple                  2487536   \n_________________________________________________________________\ndense (Dense)                multiple                  10250     \n=================================================================\nTotal params: 5,977,530\nTrainable params: 5,977,530\nNon-trainable params: 0\n_________________________________________________________________\n"
    }
   ],
   "source": [
    "inception.summary()"
   ]
  },
  {
   "cell_type": "markdown",
   "metadata": {},
   "source": [
    "## Training"
   ]
  },
  {
   "cell_type": "code",
   "execution_count": 11,
   "metadata": {},
   "outputs": [],
   "source": [
    "batch_size = 128\n",
    "epochs = 5\n",
    "learning_rate = 0.1\n",
    "\n",
    "optmizer = keras.optimizers.SGD(learning_rate=learning_rate)\n",
    "loss = keras.losses.CategoricalCrossentropy()\n",
    "metric = keras.metrics.CategoricalAccuracy()\n",
    "\n",
    "inception.compile(optimizer=optmizer, loss=loss, metrics=metric)"
   ]
  },
  {
   "cell_type": "code",
   "execution_count": 12,
   "metadata": {},
   "outputs": [],
   "source": [
    "X_train, y_train, X_test, y_test = data.load_fashion_mnist_keras()\n",
    "\n",
    "resize = [96, 96]\n",
    "train_iter = data.resize_images_generator(X_train, y_train, batch_size, resize)\n",
    "test_iter = data.resize_images_generator(X_test, y_test, batch_size, resize)\n",
    "\n",
    "train_steps = len(X_train) // batch_size + 1\n",
    "val_steps = len(X_test) // batch_size + 1"
   ]
  },
  {
   "cell_type": "code",
   "execution_count": 13,
   "metadata": {},
   "outputs": [],
   "source": [
    "# hist = inception.fit(train_iter, epochs=epochs, validation_data=test_iter, steps_per_epoch=train_steps, validation_steps=val_steps)"
   ]
  },
  {
   "cell_type": "code",
   "execution_count": 14,
   "metadata": {},
   "outputs": [],
   "source": [
    "# plot.plot_history(hist, 'categorical_accuracy')"
   ]
  }
 ],
 "metadata": {
  "language_info": {
   "codemirror_mode": {
    "name": "ipython",
    "version": 3
   },
   "file_extension": ".py",
   "mimetype": "text/x-python",
   "name": "python",
   "nbconvert_exporter": "python",
   "pygments_lexer": "ipython3",
   "version": "3.7.6-final"
  },
  "orig_nbformat": 2,
  "kernelspec": {
   "name": "python37664bitd2lconda06445091a0e1459fa904aa9d0606f621",
   "display_name": "Python 3.7.6 64-bit ('d2l': conda)"
  }
 },
 "nbformat": 4,
 "nbformat_minor": 2
}
