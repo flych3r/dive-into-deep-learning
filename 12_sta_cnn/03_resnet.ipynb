{
 "cells": [
  {
   "cell_type": "markdown",
   "metadata": {},
   "source": [
    "# ResNet"
   ]
  },
  {
   "cell_type": "code",
   "execution_count": 1,
   "metadata": {
    "tags": []
   },
   "outputs": [
    {
     "output_type": "stream",
     "name": "stdout",
     "text": "Tensorflow running on CPU\n"
    }
   ],
   "source": [
    "from tensorflow import keras\n",
    "from tensorflow.keras import layers, models\n",
    "\n",
    "import numpy as np\n",
    "\n",
    "from d2l.tensorflow import config, data\n",
    "\n",
    "config.setup('CPU')"
   ]
  },
  {
   "cell_type": "markdown",
   "metadata": {},
   "source": [
    "## Residual Layer"
   ]
  },
  {
   "cell_type": "code",
   "execution_count": 2,
   "metadata": {},
   "outputs": [],
   "source": [
    "class ResidualLayer(layers.Layer):\n",
    "    def __init__(self, num_channels, use_1x1conv=False, strides=1, **kwargs):\n",
    "        super(ResidualLayer, self).__init__(**kwargs)\n",
    "        self.conv1 = layers.Conv2D(num_channels, kernel_size=3, padding='same', strides=strides)\n",
    "        self.conv2 = layers.Conv2D(num_channels, kernel_size=3, padding='same')\n",
    "        if use_1x1conv:\n",
    "            self.conv3 = layers.Conv2D(num_channels, kernel_size=1, strides=strides)\n",
    "        else:\n",
    "            self.conv3 = None\n",
    "        self.bn1 = layers.BatchNormalization()\n",
    "        self.bn2 = layers.BatchNormalization()\n",
    "        self.relu = keras.activations.relu\n",
    "\n",
    "    def call(self, inputs):\n",
    "        Y = self.relu(self.bn1(self.conv1(inputs)))\n",
    "        Y = self.bn2(self.conv2(Y))\n",
    "        if self.conv3:\n",
    "            inputs = self.conv3(inputs)\n",
    "        return self.relu(Y + inputs)"
   ]
  },
  {
   "cell_type": "code",
   "execution_count": 3,
   "metadata": {
    "tags": []
   },
   "outputs": [
    {
     "output_type": "execute_result",
     "data": {
      "text/plain": "TensorShape([4, 6, 6, 3])"
     },
     "metadata": {},
     "execution_count": 3
    }
   ],
   "source": [
    "blk = ResidualLayer(3)\n",
    "X = np.random.uniform(size=(4, 6, 6, 3)).astype(np.float32)\n",
    "blk(X).shape"
   ]
  },
  {
   "cell_type": "code",
   "execution_count": 4,
   "metadata": {},
   "outputs": [
    {
     "output_type": "execute_result",
     "data": {
      "text/plain": "TensorShape([4, 3, 3, 3])"
     },
     "metadata": {},
     "execution_count": 4
    }
   ],
   "source": [
    "blk = ResidualLayer(3, use_1x1conv=True, strides=2)\n",
    "X = np.random.uniform(size=(4, 6, 6, 3)).astype(np.float32)\n",
    "blk(X).shape"
   ]
  },
  {
   "cell_type": "markdown",
   "metadata": {},
   "source": [
    "## Resnet Block"
   ]
  },
  {
   "cell_type": "code",
   "execution_count": 5,
   "metadata": {},
   "outputs": [],
   "source": [
    "class ResnetBlock(layers.Layer):\n",
    "    def __init__(self, num_channels, num_residuals, first_block=False, **kwargs):\n",
    "        super(ResnetBlock, self).__init__(**kwargs)\n",
    "        self.residual_layers = []\n",
    "        for i in range(num_residuals):\n",
    "            if i == 0 and not first_block:\n",
    "                self.residual_layers.append(ResidualLayer(num_channels, use_1x1conv=True, strides=2))\n",
    "            else:\n",
    "                self.residual_layers.append(ResidualLayer(num_channels))\n",
    "\n",
    "    def call(self, inputs):\n",
    "        for layer in self.residual_layers:\n",
    "            inputs = layer(inputs)\n",
    "        return inputs"
   ]
  },
  {
   "cell_type": "markdown",
   "metadata": {},
   "source": [
    "### Resnet Stage 1"
   ]
  },
  {
   "cell_type": "code",
   "execution_count": 6,
   "metadata": {},
   "outputs": [],
   "source": [
    "stage1 = models.Sequential()\n",
    "stage1._name = 'stage_1'\n",
    "\n",
    "stage1.add(layers.ZeroPadding2D(3))\n",
    "stage1.add(layers.Conv2D(64, kernel_size=7, strides=2))\n",
    "stage1.add(layers.BatchNormalization())\n",
    "stage1.add(layers.Activation('relu'))\n",
    "stage1.add(layers.ZeroPadding2D(1))\n",
    "stage1.add(layers.MaxPool2D(pool_size=3, strides=2))"
   ]
  },
  {
   "cell_type": "markdown",
   "metadata": {},
   "source": [
    "### Resnet blocks in the network"
   ]
  },
  {
   "cell_type": "code",
   "execution_count": 7,
   "metadata": {},
   "outputs": [],
   "source": [
    "resnet = models.Sequential()\n",
    "\n",
    "resnet.add(stage1)\n",
    "\n",
    "resnet.add(ResnetBlock(64, 2, first_block=True))\n",
    "resnet.add(ResnetBlock(128, 2))\n",
    "resnet.add(ResnetBlock(256, 2))\n",
    "resnet.add(ResnetBlock(512, 2))\n",
    "\n",
    "resnet.add(layers.GlobalAveragePooling2D())\n",
    "resnet.add(layers.Dense(10, activation='softmax'))\n",
    "\n",
    "resnet.build((None, 224, 224, 1))"
   ]
  },
  {
   "cell_type": "code",
   "execution_count": 8,
   "metadata": {
    "tags": []
   },
   "outputs": [
    {
     "output_type": "stream",
     "name": "stdout",
     "text": "stage_1 output shape: (1, 56, 56, 64)\nresnet_block output shape: (1, 56, 56, 64)\nresnet_block_1 output shape: (1, 28, 28, 128)\nresnet_block_2 output shape: (1, 14, 14, 256)\nresnet_block_3 output shape: (1, 7, 7, 512)\nglobal_average_pooling2d output shape: (1, 512)\ndense output shape: (1, 10)\n"
    }
   ],
   "source": [
    "X = np.random.uniform(size=(1, 224, 224, 1)).astype(np.float32)\n",
    "\n",
    "for layer in resnet.layers:\n",
    "    X = layer(X)\n",
    "    print('{} output shape: {}'.format(layer.name, X.shape))"
   ]
  },
  {
   "cell_type": "code",
   "execution_count": 9,
   "metadata": {
    "tags": []
   },
   "outputs": [
    {
     "output_type": "stream",
     "name": "stdout",
     "text": "Model: \"sequential_1\"\n_________________________________________________________________\nLayer (type)                 Output Shape              Param #   \n=================================================================\nstage_1 (Sequential)         multiple                  3456      \n_________________________________________________________________\nresnet_block (ResnetBlock)   multiple                  148736    \n_________________________________________________________________\nresnet_block_1 (ResnetBlock) multiple                  526976    \n_________________________________________________________________\nresnet_block_2 (ResnetBlock) multiple                  2102528   \n_________________________________________________________________\nresnet_block_3 (ResnetBlock) multiple                  8399360   \n_________________________________________________________________\nglobal_average_pooling2d (Gl multiple                  0         \n_________________________________________________________________\ndense (Dense)                multiple                  5130      \n=================================================================\nTotal params: 11,186,186\nTrainable params: 11,178,378\nNon-trainable params: 7,808\n_________________________________________________________________\n"
    }
   ],
   "source": [
    "resnet.summary()"
   ]
  },
  {
   "cell_type": "markdown",
   "metadata": {},
   "source": [
    "## Training"
   ]
  },
  {
   "cell_type": "code",
   "execution_count": 10,
   "metadata": {},
   "outputs": [],
   "source": [
    "batch_size = 128\n",
    "epochs = 5\n",
    "learning_rate = 0.1\n",
    "\n",
    "optmizer = keras.optimizers.SGD(learning_rate=learning_rate)\n",
    "loss = keras.losses.CategoricalCrossentropy()\n",
    "metric = keras.metrics.CategoricalAccuracy()\n",
    "\n",
    "resnet.compile(optimizer=optmizer, loss=loss, metrics=metric)"
   ]
  },
  {
   "cell_type": "code",
   "execution_count": 11,
   "metadata": {},
   "outputs": [],
   "source": [
    "X_train, y_train, X_test, y_test = data.load_fashion_mnist_keras()\n",
    "\n",
    "resize = [224, 224]\n",
    "train_iter = data.resize_images_generator(X_train, y_train, batch_size, resize)\n",
    "test_iter = data.resize_images_generator(X_test, y_test, batch_size, resize)\n",
    "\n",
    "train_steps = len(X_train) // batch_size + 1\n",
    "val_steps = len(X_test) // batch_size + 1"
   ]
  },
  {
   "cell_type": "code",
   "execution_count": 12,
   "metadata": {},
   "outputs": [],
   "source": [
    "# hist = resnet.fit(train_iter, epochs=epochs, validation_data=test_iter, steps_per_epoch=train_steps, validation_steps=val_steps)"
   ]
  },
  {
   "cell_type": "code",
   "execution_count": 13,
   "metadata": {},
   "outputs": [],
   "source": [
    "# plot.plot_history(hist, 'categorical_accuracy')"
   ]
  }
 ],
 "metadata": {
  "language_info": {
   "codemirror_mode": {
    "name": "ipython",
    "version": 3
   },
   "file_extension": ".py",
   "mimetype": "text/x-python",
   "name": "python",
   "nbconvert_exporter": "python",
   "pygments_lexer": "ipython3",
   "version": "3.7.6-final"
  },
  "orig_nbformat": 2,
  "kernelspec": {
   "name": "python37664bitd2lconda06445091a0e1459fa904aa9d0606f621",
   "display_name": "Python 3.7.6 64-bit ('d2l': conda)"
  }
 },
 "nbformat": 4,
 "nbformat_minor": 2
}
